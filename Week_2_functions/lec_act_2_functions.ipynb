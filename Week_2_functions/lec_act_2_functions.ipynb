{
 "cells": [
  {
   "cell_type": "code",
   "execution_count": 1,
   "metadata": {
    "deletable": false,
    "editable": false
   },
   "outputs": [],
   "source": [
    "# Initialize Otter\n",
    "import otter\n",
    "grader = otter.Notebook(\"lec_act_2_functions.ipynb\")"
   ]
  },
  {
   "cell_type": "markdown",
   "metadata": {},
   "source": [
    "# Lecture goals\n",
    "\n",
    "1. (more) Dictionaries for data encapsulation\n",
    "2. Functions for functionality encapsulation\n",
    "\n",
    "Lab slides: https://docs.google.com/presentation/d/1ykwwcQ0onMvAjUxfJmKl9tbo-rJPdB5pRwDEmpDsd-g/edit?usp=sharing\n",
    "\n",
    "## Functions: \n",
    "Functions enable encapsulation of, well, functionality.\n",
    "\n",
    "They're also a useful mental tool for organizing and structuring your thoughts on how to solve a given problem\n",
    "1. Clearly define a bit of code that takes in some inputs, does some computation, then outputs some data\n",
    "2. Makes it easier to test that code with different inputs\n",
    "3. Practicalities: Prevents one of the most common sources of errors - re-using variable names\n",
    "\n",
    "It's almost never wrong to encapsulate a bit of code in a function. It can slow down (a tiny bit) computation time, but can greatly reduce debugging time, so it's usually worth it.\n",
    "\n",
    "Python's function syntax is beautifully designed to make it easy to set default values for parameters and pass back as much data as you want. We'll see more of that later; for this assignment we'll use the power of dictionaries to pass back \"labeled\" data.\n",
    "\n",
    "In this lecture activity you're essentially going to copy over the code you did in the previous lecture activity, right-shift it to place it in the function, replace the **test_** variable name with the input parameter to the function, then add a return to return the answer. This is a pretty common approach for turning code into a function. \n"
   ]
  },
  {
   "cell_type": "code",
   "execution_count": 2,
   "metadata": {},
   "outputs": [],
   "source": [
    "# Access all numpy functions as np.\n",
    "import numpy as np"
   ]
  },
  {
   "cell_type": "markdown",
   "metadata": {},
   "source": [
    "## Question 1: Stats on a list\n",
    "\n",
    "### Calculate stats on a list\n",
    "\n",
    "TODO: in calc_stats_from_list function \n",
    "- Calculate the mean of the negative and positive values\n",
    "- Count the total number of negative/positive values\n",
    "- Store the values in a dictionary\n",
    "\n",
    "This function calculates the given stats from the list that is passed in. There is test code below this function.\n",
    "\n",
    "TODO: \n",
    " - Step 1 - copy your code from lecture activity 1 into the function. Right shift it so it is indented properly\n",
    " - Step 2 - change **test_list_one** to be **in_list** - the input parameter of the function\n",
    " - Step 3 - return the dictionary **dict_save_stats**"
   ]
  },
  {
   "cell_type": "code",
   "execution_count": 3,
   "metadata": {
    "tags": []
   },
   "outputs": [],
   "source": [
    "def calc_stats_from_list(in_list):\n",
    "    \"\"\" Calculate mean of positive numbers, mean of negatives numbers\n",
    "    Separate the list into positive and negative numbers. Calculate the mean of each. Return those means, along with\n",
    "     how many positive/negative numbers there were\n",
    "    @param in_list : any list type\n",
    "    @return - A dictionary with the desired stats\"\"\"\n",
    "\n",
    "    # These are the stats we're calculating. This is more elegant/useful than creating four variables - it keeps all\n",
    "    #  of the values in the same place and assigns a meaningful label (key) to them\n",
    "    dict_save_stats = {\"Mean positive\": 0.0, \"Mean negative\": -0.0, \"Count positive\": 0, \"Count negative\": 0}\n",
    "\n",
    "    # TODO: \n",
    "    #   Copy your code from lecture activity 1 here. Don't forget to change the name of test_list_one to be in_list\n",
    "    for item in in_list: #iterates over each item in test_list_one, I used example code to start\n",
    "        if item < 0: #if the item is negative do the below steps\n",
    "            dict_save_stats[\"Count negative\"] += 1 #addition assignment calculator adds to count negative\n",
    "            dict_save_stats[\"Mean negative\"] += item #adds an item to the mean calculation\n",
    "        elif item > 0: #if the item is positive do the below steps\n",
    "            dict_save_stats[\"Count positive\"] +=1 #same as when negative but going towards the positive steps\n",
    "            dict_save_stats[\"Mean positive\"] += item\n",
    "        \n",
    "    if dict_save_stats[\"Count negative\"]: #collects the negative counts\n",
    "        dict_save_stats[\"Mean negative\"] /= dict_save_stats[\"Count negative\"] #this divides the sum of the negative mean and divides it by the negative count\n",
    "    if dict_save_stats[\"Count positive\"]: #collects the positive counts\n",
    "        dict_save_stats[\"Mean positive\"] /= dict_save_stats[\"Count positive\"] #same step as the neagtive mean\n",
    "    \n",
    "    # TODO Do the return here\n",
    "    #return function returns result \n",
    "    return dict_save_stats\n"
   ]
  },
  {
   "cell_type": "markdown",
   "metadata": {
    "deletable": false,
    "editable": false
   },
   "source": [
    "### Test code for list\n",
    "\n",
    "Create the arrays and test your function using those test arrays. Here's another advantage of functions - you can create test data for yourself to make sure the code is working right. Encapsulating the code in a function means you don't \n",
    "1. Accidentally change the code when switching from the test data to the real data\n",
    "2. You can make more than one test \n",
    "3. You can run the tests more than once/all the time to double check that you didn't \"break\" the code\n",
    "\n",
    "TODO: \n",
    "- Fill in the calc_stats_from_list function above\n",
    "- Run the cell below - it will print out if your values are incorrect\n",
    "\n",
    "Note that, below, we'll test this code one last time with randomly generated data"
   ]
  },
  {
   "cell_type": "code",
   "execution_count": 4,
   "metadata": {
    "deletable": false,
    "editable": false
   },
   "outputs": [
    {
     "name": "stdout",
     "output_type": "stream",
     "text": [
      "All array tests passed!\n"
     ]
    }
   ],
   "source": [
    "# Test data\n",
    "test_list_one = [-0.75, -0.25, 1.0 / 3.0, 2.0 / 3.0, 3.0 / 3.0]\n",
    "test_list_res = calc_stats_from_list(test_list_one)\n",
    "\n",
    "b_tests_passed = True\n",
    "if not np.isclose(test_list_res[\"Mean positive\"], 2.0 / 3.0):\n",
    "    b_tests_passed = False\n",
    "    print(f\"Mean positive is not correct, should be {2.0/3.0}, got {test_list_res['Mean positive']}\")\n",
    "\n",
    "if not np.isclose(test_list_res[\"Mean negative\"], -0.5):\n",
    "    b_tests_passed = False\n",
    "    print(f\"Mean negative is not correct, should be -0.5, got {test_list_res['Mean negative']}\")\n",
    "\n",
    "if test_list_res[\"Count positive\"] != 3:\n",
    "    b_tests_passed = False\n",
    "    print(f\"Count positive numbers, should be 3, got {test_list_res['Count positive']}\")\n",
    "\n",
    "if test_list_res[\"Count negative\"] != 2:\n",
    "    b_tests_passed = False\n",
    "    print(f\"Count positive numbers, should be 2, got {test_list_res['Count negative']}\")\n",
    "\n",
    "if b_tests_passed:\n",
    "    print(\"All array tests passed!\")"
   ]
  },
  {
   "cell_type": "code",
   "execution_count": 5,
   "metadata": {
    "deletable": false,
    "editable": false
   },
   "outputs": [],
   "source": [
    "# This is an example of what the autograder tests are doing\n",
    "res = calc_stats_from_list([-1, 2, -3, 4, -5])\n",
    "assert np.isclose(res[\"Mean positive\"], 3.0)\n",
    "\n",
    "# Remember that if you are printing anything out in calc_stats_from_list then the autograder will fail"
   ]
  },
  {
   "cell_type": "code",
   "execution_count": 6,
   "metadata": {
    "deletable": false,
    "editable": false
   },
   "outputs": [
    {
     "data": {
      "text/html": [
       "<p><strong><pre style='display: inline;'>list</pre></strong> passed! 🌈</p>"
      ],
      "text/plain": [
       "list results: All test cases passed!"
      ]
     },
     "execution_count": 6,
     "metadata": {},
     "output_type": "execute_result"
    }
   ],
   "source": [
    "grader.check(\"list\")"
   ]
  },
  {
   "cell_type": "markdown",
   "metadata": {
    "deletable": false,
    "editable": false
   },
   "source": [
    "# Question 2: Doing it again with a numpy array\n",
    "\n",
    "## Fill in calc_stats_from_nparray\n",
    "\n",
    "For this function, assume the input is a numpy array.\n",
    "\n",
    "TODO: Same as the previous question, but this time copy in the numpy array code you wrote in lecture activity 1. Again:\n",
    "- NO **if** statements or **for** loops - do this all with numpy operations\n",
    "\n",
    "As before, test code is below"
   ]
  },
  {
   "cell_type": "code",
   "execution_count": 7,
   "metadata": {
    "tags": []
   },
   "outputs": [],
   "source": [
    "def calc_stats_from_nparray(in_nparray):\n",
    "    \"\"\" Calculate mean of positive numbers, mean of negatives numbers\n",
    "    Separate the list into positive and negative numbers. Calculate the mean of each. Return those means, along with\n",
    "     how many positive/negative numbers there were\n",
    "    @param in_nparray : numpy array\n",
    "    @return - A dictionary with the desired stats\"\"\"\n",
    "\n",
    "    # TODO: Copy in the code, change the numpy array name to be the input to this function, and return the dictionary\n",
    "    dict_save_stats_np = {\"Mean positive\": 0, \"Mean negative\": 0, \"Count positive\": 0, \"Count negative\": 0}\n",
    "#count_nonzero allows you to count nonzero array's values\n",
    "    Count_positive=np.count_nonzero(in_nparray>0) # number of psoitive values\n",
    "    Count_negative=np.count_nonzero(in_nparray<0) # number of negative values\n",
    "\n",
    "#have to use test_nparry> or< 0 not just count positive (mistake I made first)\n",
    "#calculating mean and np.mean allows you to do this\n",
    "    Mean_positive= np.mean(in_nparray[in_nparray>0]) #np.mean calculated mean and stuff inside () filters out the values that are positive\n",
    "    Mean_negative= np.mean(in_nparray[in_nparray<0]) #same steps as above but negative\n",
    "\n",
    "#dictionary needs to be updated (forget this step to get grader check right)\n",
    "#confused when the mean_positive switches places with the other side because my code didnt work when I had this\n",
    "    dict_save_stats_np[\"Mean positive\"]=Mean_positive\n",
    "    dict_save_stats_np[\"Mean negative\"]=Mean_negative\n",
    "    dict_save_stats_np[\"Count positive\"]=Count_positive\n",
    "    dict_save_stats_np[\"Count negative\"]=Count_negative\n",
    "\n",
    "#copied from question 1\n",
    "#return function returns result \n",
    "    return dict_save_stats_np"
   ]
  },
  {
   "cell_type": "markdown",
   "metadata": {
    "deletable": false,
    "editable": false
   },
   "source": [
    "### Test code for numpy array\n",
    "\n",
    "This will print out if your function above is returning incorrect values"
   ]
  },
  {
   "cell_type": "code",
   "execution_count": 8,
   "metadata": {
    "deletable": false,
    "editable": false
   },
   "outputs": [
    {
     "name": "stdout",
     "output_type": "stream",
     "text": [
      "All numpy array tests passed!\n"
     ]
    }
   ],
   "source": [
    "test_nparray_one = np.array(test_list_one)  # Convert the previous test list to a numpy array\n",
    "test_list_res = calc_stats_from_nparray(test_nparray_one)\n",
    "\n",
    "b_tests_passed = True\n",
    "if not np.isclose(test_list_res[\"Mean positive\"], 2.0 / 3.0):\n",
    "    b_tests_passed = False\n",
    "    print(f\"Mean positive is not correct, should be {2.0/3.0}, got {test_list_res['Mean positive']}\")\n",
    "\n",
    "if not np.isclose(test_list_res[\"Mean negative\"], -0.5):\n",
    "    b_tests_passed = False\n",
    "    print(f\"Mean negative is not correct, should be -0.5, got {test_list_res['Mean negative']}\")\n",
    "\n",
    "if test_list_res[\"Count positive\"] != 3:\n",
    "    b_tests_passed = False\n",
    "    print(f\"Count positive numbers, should be 3, got {test_list_res['Count positive']}\")\n",
    "\n",
    "if test_list_res[\"Count negative\"] != 2:\n",
    "    b_tests_passed = False\n",
    "    print(f\"Count positive numbers, should be 2, got {test_list_res['Count negative']}\")\n",
    "\n",
    "if b_tests_passed:\n",
    "    print(\"All numpy array tests passed!\")"
   ]
  },
  {
   "cell_type": "code",
   "execution_count": 9,
   "metadata": {
    "deletable": false,
    "editable": false
   },
   "outputs": [
    {
     "data": {
      "text/html": [
       "<p><strong><pre style='display: inline;'>nparray</pre></strong> passed! ✨</p>"
      ],
      "text/plain": [
       "nparray results: All test cases passed!"
      ]
     },
     "execution_count": 9,
     "metadata": {},
     "output_type": "execute_result"
    }
   ],
   "source": [
    "grader.check(\"nparray\")"
   ]
  },
  {
   "cell_type": "markdown",
   "metadata": {},
   "source": [
    "### Encapsulating the data slice \n",
    "\n",
    "In this problem we'll encapsulate the fancy slice you did in lab 2 where you get out the x,y,z columns for the wrist torque data. "
   ]
  },
  {
   "cell_type": "code",
   "execution_count": 10,
   "metadata": {
    "tags": []
   },
   "outputs": [
    {
     "name": "stdout",
     "output_type": "stream",
     "text": [
      "Data channels:[{'name': 'Wrist force', 'index_offset': 0, 'dimensions': 3, 'units': 'N'}, {'name': 'Wrist torque', 'index_offset': 3, 'dimensions': 3, 'units': 'N.m'}, {'name': 'IMU accel f1', 'index_offset': 6, 'dimensions': 3, 'units': 'gravity units'}, {'name': 'IMU accel f2', 'index_offset': 15, 'dimensions': 3, 'units': 'gravity units'}, {'name': 'IMU accel f3', 'index_offset': 24, 'dimensions': 3, 'units': 'gravity units'}, {'name': 'IMU velocity f1', 'index_offset': 9, 'dimensions': 3, 'units': 'deg/sec'}, {'name': 'IMU velocity f2', 'index_offset': 18, 'dimensions': 3, 'units': 'deg/sec'}, {'name': 'IMU velocity f3', 'index_offset': 27, 'dimensions': 3, 'units': 'deg/sec'}, {'name': 'Motor position f1', 'index_offset': 12, 'dimensions': 1, 'units': 'radians'}, {'name': 'Motor position f2', 'index_offset': 21, 'dimensions': 1, 'units': 'radians'}, {'name': 'Motor position f3', 'index_offset': 30, 'dimensions': 1, 'units': 'radians'}, {'name': 'Motor velocity f1', 'index_offset': 13, 'dimensions': 1, 'units': 'rad/sec'}, {'name': 'Motor velocity f2', 'index_offset': 22, 'dimensions': 1, 'units': 'rad/sec'}, {'name': 'Motor velocity f3', 'index_offset': 31, 'dimensions': 1, 'units': 'rad/sec'}, {'name': 'Motor effort f1', 'index_offset': 14, 'dimensions': 1, 'units': 'amp'}, {'name': 'Motor effort f2', 'index_offset': 23, 'dimensions': 1, 'units': 'amp'}, {'name': 'Motor effort f3', 'index_offset': 32, 'dimensions': 1, 'units': 'amp'}]\n"
     ]
    }
   ],
   "source": [
    "# Load in the data\n",
    "import json as json\n",
    "try:\n",
    "    fname = \"Data/proxy_pick_data.csv\"\n",
    "    pick_data = np.loadtxt(fname, dtype=\"float\", delimiter=\",\")\n",
    "except FileNotFoundError:\n",
    "    print(f\"File not found {fname}\")\n",
    "\n",
    "\n",
    "# TODO - copy over your code from Lab 1 here\n",
    "try:\n",
    "    with open(\"Data/proxy_data_description.json\", \"r\") as fp:\n",
    "        pick_data_description = json.load(fp)\n",
    "        data_channels=pick_data_description[\"Data channels\"]\n",
    "        print(f\"Data channels:{data_channels}\")\n",
    "except FileNotFoundError:\n",
    "    print(f\"The file was not found; check that the data directory is in the current one and the file is in that directory\")\n",
    "n_picks = np.count_nonzero(pick_data[:, 1]) \n",
    "n_successful = np.count_nonzero(pick_data[:, -1] == 1)\n",
    "n_dimensions=pick_data.shape[0]\n",
    "n_time_steps=pick_data.shape[1]\n",
    "n_total_dims = 0\n",
    "data_channels=pick_data_description[\"Data channels\"]\n",
    "\n",
    "for item in data_channels:\n",
    "    n_dimensions = item [\"dimensions\"] #get number of dimension for channel\n",
    "    n_total_dims += n_dimensions #add number of dimensions\n",
    "pick_channel_data = pick_data[:,:-1] \n",
    "pick_successful = pick_data[:,-1] "
   ]
  },
  {
   "cell_type": "code",
   "execution_count": 11,
   "metadata": {
    "tags": []
   },
   "outputs": [],
   "source": [
    "def get_channel_data(all_data, n_picks, start_index, n_time_steps, n_total_dims, n_dims):\n",
    "    \"\"\" Get the data for just one channel (eg, wrist torque)\n",
    "    @param all_data - the pick_channel_data numpy array\n",
    "    @param n_picks - number of picks (number of rows in all_data)\n",
    "    @param start_index - where to start getting data from \n",
    "    @param n_time_steps - number of time steps\n",
    "    @param n_total_dims - what the skip value is - the total number of channels\n",
    "    @param n_dims - total number of dimensions to use (1, 2, or 3)\n",
    "    @return Return array should be n_picks X (n_timesteps * n_dims)\"\"\"\n",
    "\n",
    "    # TODO Your slice code goes here. Note that I kept most of the variable names the same, so you should only have\n",
    "    #  to change the wrist torque specific ones\n",
    "\n",
    "    wrist_torque_data = np.zeros((int(n_picks), int(n_time_steps * n_dims)))\n",
    "\n",
    "    for item in range(0,3):\n",
    "        wrist_torque_data[:, item::start_index] = all_data[:, start_index + item::n_total_dims]\n",
    "    return (wrist_torque_data)\n",
    "    "
   ]
  },
  {
   "cell_type": "code",
   "execution_count": 12,
   "metadata": {
    "tags": []
   },
   "outputs": [],
   "source": [
    "# Just for this problem I'm \"hard-wiring\" in these values - this is because I want to test the function\n",
    "# with known values\n",
    "n_picks = 660\n",
    "wt_start_index = 3  # Wrist torque starts at 3\n",
    "n_time_steps = 40\n",
    "n_total_dims = 33\n",
    "\n",
    "# Note - I know the wrist torque data has 3 dimensions (x,y,z)\n",
    "wrist_torque_data = get_channel_data(pick_channel_data, \n",
    "                                    n_picks=n_picks, \n",
    "                                    start_index=wt_start_index,\n",
    "                                    n_time_steps=n_time_steps,\n",
    "                                    n_total_dims=n_total_dims,\n",
    "                                    n_dims=3)"
   ]
  },
  {
   "cell_type": "code",
   "execution_count": 13,
   "metadata": {
    "tags": []
   },
   "outputs": [],
   "source": [
    "# SELF TESTS\n",
    "# If you need to, copy over the tests from lab 1, the slicing problem - the values should be the same"
   ]
  },
  {
   "cell_type": "code",
   "execution_count": 14,
   "metadata": {
    "deletable": false,
    "editable": false
   },
   "outputs": [
    {
     "data": {
      "text/html": [
       "<p><strong><pre style='display: inline;'>data_function</pre></strong> passed! ✨</p>"
      ],
      "text/plain": [
       "data_function results: All test cases passed!"
      ]
     },
     "execution_count": 14,
     "metadata": {},
     "output_type": "execute_result"
    }
   ],
   "source": [
    "grader.check(\"data_function\")"
   ]
  },
  {
   "cell_type": "markdown",
   "metadata": {
    "deletable": false,
    "editable": false
   },
   "source": [
    "## Hours and collaborators\n",
    "Required for every assignment - fill out before you hand-in.\n",
    "\n",
    "Listing names and websites helps you to document who you worked with and what internet help you received in the case of any plagiarism issues. You should list names of anyone (in class or not) who has substantially helped you with an assignment - or anyone you have *helped*. You do not need to list TAs.\n",
    "\n",
    "Listing hours helps us track if the assignments are too long."
   ]
  },
  {
   "cell_type": "code",
   "execution_count": 15,
   "metadata": {
    "tags": []
   },
   "outputs": [],
   "source": [
    "\n",
    "# List of names (creates a set)\n",
    "worked_with_names = {\"Kaleb\"}\n",
    "# List of URLS TCS3 (creates a set)\n",
    "websites = {\"na\"}\n",
    "# Approximate number of hours, including lab/in-class time\n",
    "hours = 3"
   ]
  },
  {
   "cell_type": "code",
   "execution_count": 16,
   "metadata": {
    "deletable": false,
    "editable": false
   },
   "outputs": [
    {
     "data": {
      "text/html": [
       "<p><strong><pre style='display: inline;'>hours_collaborators</pre></strong> passed! ✨</p>"
      ],
      "text/plain": [
       "hours_collaborators results: All test cases passed!"
      ]
     },
     "execution_count": 16,
     "metadata": {},
     "output_type": "execute_result"
    }
   ],
   "source": [
    "grader.check(\"hours_collaborators\")"
   ]
  },
  {
   "cell_type": "markdown",
   "metadata": {},
   "source": [
    "### To submit\n",
    "\n",
    "- Do a restart then run all to make sure everything runs ok\n",
    "- Save the file\n",
    "- Submit just this .ipynb file through gradescope, Lecture activity 2, functions\n",
    "- You do NOT need to submit the data files - we will supply those\n",
    "\n",
    "If the Gradescope autograder fails, please check here first for common reasons for it to fail\n",
    "    https://docs.google.com/presentation/d/1tYa5oycUiG4YhXUq5vHvPOpWJ4k_xUPp2rUNIL7Q9RI/edit?usp=sharing\n",
    "\n",
    "Most likely failure for this assignment is not naming the data directory and files correctly; capitalization matters for the Gradescope grader. "
   ]
  }
 ],
 "metadata": {
  "kernelspec": {
   "display_name": "Python 3 (ipykernel)",
   "language": "python",
   "name": "python3"
  },
  "language_info": {
   "codemirror_mode": {
    "name": "ipython",
    "version": 3
   },
   "file_extension": ".py",
   "mimetype": "text/x-python",
   "name": "python",
   "nbconvert_exporter": "python",
   "pygments_lexer": "ipython3",
   "version": "3.12.2"
  },
  "otter": {
   "OK_FORMAT": true,
   "tests": {
    "data_function": {
     "name": "data_function",
     "points": 2,
     "suites": [
      {
       "cases": [
        {
         "code": ">>> assert(wrist_torque_data.shape[0] == pick_data.shape[0])\n",
         "hidden": false,
         "locked": false
        },
        {
         "code": ">>> assert(wrist_torque_data.shape[1] == 3 * 40)\n",
         "hidden": false,
         "locked": false
        },
        {
         "code": ">>> assert(np.isclose(wrist_torque_data[0, 0], -0.268183058, atol=0.001))\n",
         "hidden": false,
         "locked": false
        },
        {
         "code": ">>> assert(np.isclose(wrist_torque_data[0, -1], -0.-0.077284199, atol=0.001))\n",
         "hidden": false,
         "locked": false
        }
       ],
       "scored": true,
       "setup": "",
       "teardown": "",
       "type": "doctest"
      }
     ]
    },
    "hours_collaborators": {
     "name": "hours_collaborators",
     "points": 1,
     "suites": [
      {
       "cases": [
        {
         "code": ">>> assert(not \"not filled out\" in worked_with_names)\n",
         "hidden": false,
         "locked": false
        },
        {
         "code": ">>> assert(not \"not filled out\" in websites)\n",
         "hidden": false,
         "locked": false
        },
        {
         "code": ">>> assert(hours > 0)\n",
         "hidden": false,
         "locked": false
        }
       ],
       "scored": true,
       "setup": "",
       "teardown": "",
       "type": "doctest"
      }
     ]
    },
    "list": {
     "name": "list",
     "points": 1,
     "suites": [
      {
       "cases": [
        {
         "code": ">>> res = calc_stats_from_list([-1, 2, -3, 4, -5])\n>>> assert np.isclose(res[\"Mean positive\"], 3.0)\n",
         "hidden": false,
         "locked": false
        },
        {
         "code": ">>> res = calc_stats_from_list([-1, 2, -3, 4, -5])\n>>> assert np.isclose(res[\"Mean negative\"], -3.0)\n",
         "hidden": false,
         "locked": false
        },
        {
         "code": ">>> res = calc_stats_from_list([-1, 2, -3, 4, -5])\n>>> assert np.isclose(res[\"Count positive\"], 2)\n",
         "hidden": false,
         "locked": false
        },
        {
         "code": ">>> res = calc_stats_from_list([-1, 2, -3, 4, -5])\n>>> assert np.isclose(res[\"Count negative\"], 3)\n",
         "hidden": false,
         "locked": false
        }
       ],
       "scored": true,
       "setup": "",
       "teardown": "",
       "type": "doctest"
      }
     ]
    },
    "nparray": {
     "name": "nparray",
     "points": 1,
     "suites": [
      {
       "cases": [
        {
         "code": ">>> test_data = np.array([-1, 2, -3, 4, -5])\n>>> res = calc_stats_from_nparray(test_data)\n>>> assert np.isclose(res[\"Mean positive\"], 3.0)\n",
         "hidden": false,
         "locked": false
        },
        {
         "code": ">>> test_data = np.array([-1, 2, -3, 4, -5])\n>>> res = calc_stats_from_nparray(test_data)\n>>> assert np.isclose(res[\"Mean negative\"], -3.0)\n",
         "hidden": false,
         "locked": false
        },
        {
         "code": ">>> test_data = np.array([-1, 2, -3, 4, -5])\n>>> res = calc_stats_from_nparray(test_data)\n>>> assert np.isclose(res[\"Count positive\"], 2)\n",
         "hidden": false,
         "locked": false
        },
        {
         "code": ">>> test_data = np.array([-1, 2, -3, 4, -5])\n>>> res = calc_stats_from_nparray(test_data)\n>>> assert np.isclose(res[\"Count negative\"], 3)\n",
         "hidden": false,
         "locked": false
        }
       ],
       "scored": true,
       "setup": "",
       "teardown": "",
       "type": "doctest"
      }
     ]
    }
   }
  }
 },
 "nbformat": 4,
 "nbformat_minor": 2
}
